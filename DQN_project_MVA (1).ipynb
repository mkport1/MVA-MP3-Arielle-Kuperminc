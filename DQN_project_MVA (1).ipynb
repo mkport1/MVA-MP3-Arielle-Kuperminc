{
 "cells": [
  {
   "cell_type": "markdown",
   "metadata": {},
   "source": [
    "**You may need to install [OpenCV](https://pypi.python.org/pypi/opencv-python) and [scikit-video](http://www.scikit-video.org/stable/).**"
   ]
  },
  {
   "cell_type": "code",
   "execution_count": 2,
   "metadata": {},
   "outputs": [
    {
     "name": "stderr",
     "output_type": "stream",
     "text": [
      "Using TensorFlow backend.\n"
     ]
    }
   ],
   "source": [
    "import keras\n",
    "import numpy as np\n",
    "import io\n",
    "import base64\n",
    "from IPython.display import HTML\n",
    "import skvideo.io\n",
    "import cv2\n",
    "import json\n",
    "\n",
    "from keras.models import Sequential,model_from_json\n",
    "from keras.layers.core import Dense\n",
    "from keras.optimizers import sgd\n",
    "from keras.layers import Conv2D, MaxPooling2D, Activation, AveragePooling2D,Reshape,BatchNormalization,Flatten"
   ]
  },
  {
   "cell_type": "markdown",
   "metadata": {},
   "source": [
    "# MiniProject #3: Deep Reinforcement Learning"
   ]
  },
  {
   "cell_type": "markdown",
   "metadata": {},
   "source": [
    "__Notations__: $E_p$ is the expectation under probability $p$. Please justify each of your answer and widely comment your code."
   ]
  },
  {
   "cell_type": "markdown",
   "metadata": {},
   "source": [
    "# Context"
   ]
  },
  {
   "cell_type": "markdown",
   "metadata": {},
   "source": [
    "In a reinforcement learning algorithm, we modelize each step $t$ as an action $a_t$ obtained from a state $s_t$, i.e. $\\{(a_{t},s_{t})_{t\\leq T}\\}$ having the Markov property. We consider a discount factor $\\gamma \\in [0,1]$ that ensures convergence. The goal is to find among all the policies $\\pi$, one that maximizes the expected reward:\n",
    "\n",
    "\\begin{equation*}\n",
    "R(\\pi)=\\sum_{t\\leq T}E_{p^{\\pi}}[\\gamma^t r(s_{t},a_{t})] \\> ,\n",
    "\\end{equation*}\n",
    "\n",
    "where: \n",
    "\\begin{equation*}p^{\\pi}(a_{0},a_{1},s_{1},...,a_{T},s_{T})=p(a_{0})\\prod_{t=1}^{T}\\pi(a_{t}|s_{t})p(s_{t+1}|s_{t},a_{t}) \\> .\n",
    "\\end{equation*}\n",
    "\n",
    "We note the $Q$-function:\n",
    "\n",
    "\\begin{equation*}Q^\\pi(s,a)=E_{p^{\\pi}}[\\sum_{t\\leq T}\\gamma^{t}r(s_{t},a_{t})|s_{0}=s,a_{0}=a] \\> .\n",
    "\\end{equation*}\n",
    "\n",
    "Thus, the optimal Q function is:\n",
    "\\begin{equation*}\n",
    "Q^*(s,a)=\\max_{\\pi}Q^\\pi(s,a) \\> .\n",
    "\\end{equation*}\n",
    "\n",
    "In this project, we will apply the deep reinforcement learning techniques to a simple game: an agent will have to learn from scratch a policy that will permit it maximizing a reward."
   ]
  },
  {
   "cell_type": "markdown",
   "metadata": {},
   "source": [
    "## The environment, the agent and the game"
   ]
  },
  {
   "cell_type": "markdown",
   "metadata": {},
   "source": [
    "### The environment"
   ]
  },
  {
   "cell_type": "markdown",
   "metadata": {},
   "source": [
    "```Environment``` is an abstract class that represents the states, rewards, and actions to obtain the new state."
   ]
  },
  {
   "cell_type": "code",
   "execution_count": 8,
   "metadata": {},
   "outputs": [],
   "source": [
    "class Environment(object):\n",
    "    def __init__(self):\n",
    "        pass\n",
    "        \n",
    "    def act(self, act):\n",
    "        \n",
    "        \"\"\"\n",
    "        One can act on the environment and obtain its reaction:\n",
    "        - the new state\n",
    "        - the reward of the new state\n",
    "        - should we continue the game?\n",
    "\n",
    "        :return: state, reward, game_over\n",
    "        \"\"\"\n",
    "        \"self.act\"\n",
    "        pass\n",
    "\n",
    "\n",
    "    def reset(self):\n",
    "        \"\"\"\n",
    "        Reinitialize the environment to a random state and returns\n",
    "        the original state\n",
    "\n",
    "        :return: state\n",
    "        \"\"\"\n",
    "        pass\n",
    "    \n",
    "    def draw(self):\n",
    "        \"\"\"\n",
    "        Visualize in the console or graphically the current state\n",
    "        \"\"\"\n",
    "        pass"
   ]
  },
  {
   "cell_type": "markdown",
   "metadata": {},
   "source": [
    "The method ```act``` allows to act on the environment at a given state $s_t$ (stored internally), via action $a_t$. The method will return the new state $s_{t+1}$, the reward $r(s_{t},a_{t})$ and determines if $t\\leq T$ (*game_over*).\n",
    "\n",
    "The method ```reset``` simply reinitializes the environment to a random state $s_0$.\n",
    "\n",
    "The method ```draw``` displays the current state $s_t$ (this is useful to check the behavior of the Agent).\n",
    "\n",
    "We modelize $s_t$ as a tensor, while $a_t$ is an integer."
   ]
  },
  {
   "cell_type": "markdown",
   "metadata": {},
   "source": [
    "### The Agent"
   ]
  },
  {
   "cell_type": "markdown",
   "metadata": {},
   "source": [
    "The goal of the ```Agent``` is to interact with the ```Environment``` by proposing actions $a_t$ obtained from a given state $s_t$ to attempt to maximize its __reward__ $r(s_t,a_t)$. We propose the following abstract class:"
   ]
  },
  {
   "cell_type": "code",
   "execution_count": 9,
   "metadata": {},
   "outputs": [],
   "source": [
    "class Agent(object):\n",
    "    def __init__(self, epsilon=0.1, n_action=4):\n",
    "        self.epsilon = epsilon\n",
    "        self.n_action = n_action\n",
    "    \n",
    "    def set_epsilon(self,e):\n",
    "        self.epsilon = e\n",
    "\n",
    "    def act(self,s,train=True):\n",
    "        \"\"\" This function should return the next action to do:\n",
    "        an integer between 0 and 4 (not included) with a random exploration of epsilon\"\"\"\n",
    "        if train:\n",
    "            if np.random.rand() <= self.epsilon:\n",
    "                a = np.random.randint(0, self.n_action, size=1)[0]\n",
    "            else:\n",
    "                a = self.learned_act(s)\n",
    "        else: # in some cases, this can improve the performance.. remove it if poor performances\n",
    "            a = self.learned_act(s)\n",
    "\n",
    "        return a\n",
    "\n",
    "    def learned_act(self,s):\n",
    "        \"\"\" Act via the policy of the agent, from a given state s\n",
    "        it proposes an action a\"\"\"\n",
    "        pass\n",
    "\n",
    "    def reinforce(self, s, n_s, a, r, game_over_):\n",
    "        \"\"\" This function is the core of the learning algorithm. \n",
    "        It takes as an input the current state s_, the next state n_s_\n",
    "        the action a_ used to move from s_ to n_s_ and the reward r_.\n",
    "        \n",
    "        Its goal is to learn a policy.\n",
    "        \"\"\"\n",
    "        pass\n",
    "\n",
    "    def save(self):\n",
    "        \"\"\" This function returns basic stats if applicable: the\n",
    "        loss and/or the model\"\"\"\n",
    "        pass\n",
    "\n",
    "    def load(self):\n",
    "        \"\"\" This function allows to restore a model\"\"\"\n",
    "        pass"
   ]
  },
  {
   "cell_type": "markdown",
   "metadata": {},
   "source": [
    "***\n",
    "__Question 1__:\n",
    "Explain the function act. Why is ```epsilon``` essential?"
   ]
  },
  {
   "cell_type": "markdown",
   "metadata": {},
   "source": [
    "**Explanation of the function act:**<br>\n",
    "The function act determines the action to perform by the agent considering the current state and the previous steps used. During the training phase, we add a possibility to do a random state (which means that the agent will perform a step without taking into consideration the past one) so the action will not always promote similar actions. <br>\n",
    "\n",
    "**Explanation of the parameter epsilon:**<br>\n",
    "The parameter epsilon sets the tendancy of the agent to act randomly at each step. A value of epsilon close to 0 will make the agent only act on what he has learned and a value of epsilon close to 1 will correspond to a random action at each step. This parameter is essential because if the agent acts only on what it has learned, it will promote too much certain actions that have higher rewards and prevent other exploration to be possible."
   ]
  },
  {
   "cell_type": "markdown",
   "metadata": {},
   "source": [
    "***\n",
    "### The Game"
   ]
  },
  {
   "cell_type": "markdown",
   "metadata": {},
   "source": [
    "The ```Agent``` and the ```Environment``` work in an interlaced way as in the following (take some time to understand this code as it is the core of the project)\n",
    "\n",
    "```python\n",
    "\n",
    "epoch = 300\n",
    "env = Environment()\n",
    "agent = Agent()\n",
    "\n",
    "\n",
    "# Number of won games\n",
    "score = 0\n",
    "loss = 0\n",
    "\n",
    "\n",
    "for e in range(epoch):\n",
    "    # At each epoch, we restart to a fresh game and get the initial state\n",
    "    state = env.reset()\n",
    "    # This assumes that the games will end\n",
    "    game_over = False\n",
    "\n",
    "    win = 0\n",
    "    lose = 0\n",
    "    \n",
    "    while not game_over:\n",
    "        # The agent performs an action\n",
    "        action = agent.act(state)\n",
    "\n",
    "        # Apply an action to the environment, get the next state, the reward\n",
    "        # and if the games end\n",
    "        prev_state = state\n",
    "        state, reward, game_over = env.act(action)\n",
    "\n",
    "        # Update the counters\n",
    "        if reward > 0:\n",
    "            win = win + reward\n",
    "        if reward < 0:\n",
    "            lose = lose -reward\n",
    "\n",
    "        # Apply the reinforcement strategy\n",
    "        loss = agent.reinforce(prev_state, state,  action, reward, game_over)\n",
    "\n",
    "    # Save as a mp4\n",
    "    if e % 10 == 0:\n",
    "        env.draw(e)\n",
    "\n",
    "    # Update stats\n",
    "    score += win-lose\n",
    "\n",
    "    print(\"Epoch {:03d}/{:03d} | Loss {:.4f} | Win/lose count {}/{} ({})\"\n",
    "          .format(e, epoch, loss, win, lose, win-lose))\n",
    "    agent.save()\n",
    "```"
   ]
  },
  {
   "cell_type": "markdown",
   "metadata": {},
   "source": [
    "# The game, *eat cheese*"
   ]
  },
  {
   "cell_type": "markdown",
   "metadata": {},
   "source": [
    "A rat runs on an island and tries to eat as much as possible. The island is subdivided into $N\\times N$ cells, in which there are cheese (+0.5) and poisonous cells (-1). The rat has a visibility of 2 cells (thus it can see $5^2$ cells). The rat is given a time $T$ to accumulate as much food as possible. It can perform 4 actions: going up, down, left, right. \n",
    "\n",
    "The goal is to code an agent to solve this task that will learn by trial and error. We propose the following environment:"
   ]
  },
  {
   "cell_type": "code",
   "execution_count": 10,
   "metadata": {},
   "outputs": [],
   "source": [
    "class Environment(object):\n",
    "    def __init__(self, grid_size=10, max_time=500, temperature=0.1):\n",
    "        grid_size = grid_size+4\n",
    "        self.grid_size = grid_size\n",
    "        self.max_time = max_time\n",
    "        self.temperature = temperature\n",
    "\n",
    "        #board on which one plays\n",
    "        self.board = np.zeros((grid_size,grid_size))\n",
    "        self.position = np.zeros((grid_size,grid_size))\n",
    "\n",
    "        # coordinate of the cat\n",
    "        self.x = 0\n",
    "        self.y = 1\n",
    "\n",
    "        # self time\n",
    "        self.t = 0\n",
    "\n",
    "        self.scale=16\n",
    "\n",
    "        self.to_draw = np.zeros((max_time+2, grid_size*self.scale, grid_size*self.scale, 3))\n",
    "\n",
    "\n",
    "    def draw(self,e):\n",
    "        skvideo.io.vwrite(str(e) + '.mp4', self.to_draw)\n",
    "\n",
    "    def get_frame(self,t):\n",
    "        b = np.zeros((self.grid_size,self.grid_size,3))+128\n",
    "        b[self.board>0,0] = 256\n",
    "        b[self.board < 0, 2] = 256\n",
    "        b[self.x,self.y,:]=256\n",
    "        b[-2:,:,:]=0\n",
    "        b[:,-2:,:]=0\n",
    "        b[:2,:,:]=0\n",
    "        b[:,:2,:]=0\n",
    "        \n",
    "        b =  cv2.resize(b, None, fx=self.scale, fy=self.scale, interpolation=cv2.INTER_NEAREST)\n",
    "\n",
    "        self.to_draw[t,:,:,:]=b\n",
    "\n",
    "\n",
    "    def act(self, action):\n",
    "        \"\"\"This function returns the new state, reward and decides if the\n",
    "        game ends.\"\"\"\n",
    "\n",
    "        self.get_frame(int(self.t))\n",
    "\n",
    "        self.position = np.zeros((self.grid_size, self.grid_size))\n",
    "\n",
    "        self.position[0:2,:]= -1\n",
    "        self.position[:,0:2] = -1\n",
    "        self.position[-2:, :] = -1\n",
    "        self.position[-2:, :] = -1\n",
    "\n",
    "        self.position[self.x, self.y] = 1\n",
    "        if action == 0:\n",
    "            if self.x == self.grid_size-3:\n",
    "                self.x = self.x-1\n",
    "            else:\n",
    "                self.x = self.x + 1\n",
    "        elif action == 1:\n",
    "            if self.x == 2:\n",
    "                self.x = self.x+1\n",
    "            else:\n",
    "                self.x = self.x-1\n",
    "        elif action == 2:\n",
    "            if self.y == self.grid_size - 3:\n",
    "                self.y = self.y - 1\n",
    "            else:\n",
    "                self.y = self.y + 1\n",
    "        elif action == 3:\n",
    "            if self.y == 2:\n",
    "                self.y = self.y + 1\n",
    "            else:\n",
    "                self.y = self.y - 1\n",
    "        else:\n",
    "            RuntimeError('Error: action not recognized')\n",
    "\n",
    "        self.t = self.t + 1\n",
    "        reward = self.board[self.x, self.y]\n",
    "        self.board[self.x, self.y] = 0\n",
    "        game_over = self.t > self.max_time\n",
    "        state = np.concatenate((self.board.reshape(self.grid_size, self.grid_size,1),\n",
    "                        self.position.reshape(self.grid_size, self.grid_size,1)),axis=2)\n",
    "        state = state[self.x-2:self.x+3,self.y-2:self.y+3,:]\n",
    "\n",
    "        return state, reward, game_over\n",
    "\n",
    "    def reset(self):\n",
    "        \"\"\"This function resets the game and returns the initial state\"\"\"\n",
    "\n",
    "        self.x = np.random.randint(3, self.grid_size-3, size=1)[0]\n",
    "        self.y = np.random.randint(3, self.grid_size-3, size=1)[0]\n",
    "\n",
    "\n",
    "        bonus = 0.5*np.random.binomial(1,self.temperature,size=self.grid_size**2)\n",
    "        bonus = bonus.reshape(self.grid_size,self.grid_size)\n",
    "\n",
    "        malus = -1.0*np.random.binomial(1,self.temperature,size=self.grid_size**2)\n",
    "        malus = malus.reshape(self.grid_size, self.grid_size)\n",
    "\n",
    "        self.to_draw = np.zeros((self.max_time+2, self.grid_size*self.scale, self.grid_size*self.scale, 3))\n",
    "\n",
    "\n",
    "        malus[bonus>0]=0\n",
    "\n",
    "        self.board = bonus + malus\n",
    "\n",
    "        self.position = np.zeros((self.grid_size, self.grid_size))\n",
    "        self.position[0:2,:]= -1\n",
    "        self.position[:,0:2] = -1\n",
    "        self.position[-2:, :] = -1\n",
    "        self.position[-2:, :] = -1\n",
    "        self.board[self.x,self.y] = 0\n",
    "        self.t = 0\n",
    "\n",
    "        state = np.concatenate((\n",
    "                               self.board.reshape(self.grid_size, self.grid_size,1),\n",
    "                        self.position.reshape(self.grid_size, self.grid_size,1)),axis=2)\n",
    "\n",
    "        state = state[self.x - 2:self.x + 3, self.y - 2:self.y + 3, :]\n",
    "        return state"
   ]
  },
  {
   "cell_type": "markdown",
   "metadata": {},
   "source": [
    "The following elements are important because they correspond to the hyper parameters for this project:"
   ]
  },
  {
   "cell_type": "code",
   "execution_count": 11,
   "metadata": {},
   "outputs": [],
   "source": [
    "# parameters\n",
    "size = 13\n",
    "T=200\n",
    "temperature=0.3\n",
    "epochs_train=50 # set small when debugging\n",
    "epochs_test=11 # set small when debugging\n",
    "\n",
    "# display videos\n",
    "def display_videos(name):\n",
    "    video = io.open(name, 'r+b').read()\n",
    "    encoded = base64.b64encode(video)\n",
    "    return '''<video alt=\"test\" controls>\n",
    "                <source src=\"data:video/mp4;base64,{0}\" type=\"video/mp4\" />\n",
    "             </video>'''.format(encoded.decode('ascii'))"
   ]
  },
  {
   "cell_type": "markdown",
   "metadata": {},
   "source": [
    "__Question 2__ Explain the use of the arrays ```position``` and ```board```."
   ]
  },
  {
   "cell_type": "markdown",
   "metadata": {},
   "source": [
    "The array position contains all the possible positions that can be taken by the animal. The value of a cell is -1 if the animal can't go there, 1 if it is already there, and 0 if it can go to this cell. The board represents the reward associated with each position if the rat goes there."
   ]
  },
  {
   "cell_type": "markdown",
   "metadata": {},
   "source": [
    "## Random Agent"
   ]
  },
  {
   "cell_type": "markdown",
   "metadata": {},
   "source": [
    "***\n",
    "__Question 3__ Implement a random Agent (only ```learned_act``` needs to be implemented):"
   ]
  },
  {
   "cell_type": "code",
   "execution_count": 12,
   "metadata": {},
   "outputs": [],
   "source": [
    "class RandomAgent(Agent):\n",
    "    def __init__(self):\n",
    "        super(RandomAgent, self).__init__()\n",
    "        pass\n",
    "\n",
    "    def learned_act(self, s):\n",
    "        # we only have to set a parameter a to get the random actions\n",
    "        a = np.random.randint(0, self.n_action, size=1)[0]\n",
    "        pass"
   ]
  },
  {
   "cell_type": "markdown",
   "metadata": {},
   "source": [
    "***\n",
    "***\n",
    "__Question 4__ Visualize the game moves. You need to fill in the following function for the evaluation:"
   ]
  },
  {
   "cell_type": "code",
   "execution_count": 13,
   "metadata": {},
   "outputs": [],
   "source": [
    "def test(agent,env,epochs,prefix=''):\n",
    "    # Number of won games\n",
    "    score = 0\n",
    "    # for each epoch we reset the whole environment    \n",
    "    for e in range(epochs):\n",
    "        state = env.reset()\n",
    "\n",
    "        \n",
    "    # The variable game_over allows us to stop the game if it is over\n",
    "        game_over = False\n",
    "\n",
    "        win = 0\n",
    "        lose = 0\n",
    "\n",
    "        while not game_over:\n",
    "            # The agent can perform an action (here we perform it without the parameter epsilon, we are in the test phase)\n",
    "            action = agent.act(state,train=False)\n",
    "\n",
    "            # we need the previous state, the new state, the reward to learn. We also need the variable game_over\n",
    "            \n",
    "            prev_state = state\n",
    "            state, reward, game_over = env.act(action)\n",
    "\n",
    "            # If the reward is positive, we add the reward to the win cases\n",
    "            if reward > 0:\n",
    "                win = win + reward\n",
    "            # otherwise we substract it from the loss (loss=absolute value of negative rewards)\n",
    "            if reward < 0:\n",
    "                lose = lose -reward\n",
    "\n",
    "        \n",
    "        # Save as a mp4\n",
    "        env.draw(prefix+str(e))\n",
    "\n",
    "        # Update stats\n",
    "        score = score + win-lose\n",
    "\n",
    "        print(\"Win/lose count {}/{}. Average score ({})\"\n",
    "              .format(win, lose, score/(1+e)))\n",
    "    print('Final score: '+str(score/epochs))"
   ]
  },
  {
   "cell_type": "code",
   "execution_count": 16,
   "metadata": {},
   "outputs": [
    {
     "name": "stdout",
     "output_type": "stream",
     "text": [
      "Win/lose count 2.0/2.0. Average score (0.0)\n",
      "Win/lose count 2.5/1.0. Average score (0.75)\n",
      "Win/lose count 1.0/4.0. Average score (-0.5)\n",
      "Win/lose count 1.0/2.0. Average score (-0.625)\n",
      "Win/lose count 2.0/2.0. Average score (-0.5)\n",
      "Win/lose count 1.5/3.0. Average score (-0.6666666666666666)\n",
      "Win/lose count 0.5/1.0. Average score (-0.6428571428571429)\n",
      "Win/lose count 3.5/2.0. Average score (-0.375)\n",
      "Win/lose count 1.0/4.0. Average score (-0.6666666666666666)\n",
      "Win/lose count 1.0/2.0. Average score (-0.7)\n",
      "Win/lose count 3.5/4.0. Average score (-0.6818181818181818)\n",
      "Final score: -0.6818181818181818\n"
     ]
    },
    {
     "data": {
      "text/html": [
       "<video alt=\"test\" controls>\n",
       "                <source src=\"data:video/mp4;base64,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\" type=\"video/mp4\" />\n",
       "             </video>"
      ],
      "text/plain": [
       "<IPython.core.display.HTML object>"
      ]
     },
     "execution_count": 16,
     "metadata": {},
     "output_type": "execute_result"
    }
   ],
   "source": [
    "# Initialize the game\n",
    "env = Environment(grid_size=size, max_time=T,temperature=temperature)\n",
    "\n",
    "# Initialize the agent!\n",
    "agent = RandomAgent()\n",
    "\n",
    "test(agent,env,epochs_test,prefix='random')\n",
    "HTML(display_videos('random0.mp4'))"
   ]
  },
  {
   "cell_type": "markdown",
   "metadata": {},
   "source": [
    "***\n",
    "## DQN"
   ]
  },
  {
   "cell_type": "markdown",
   "metadata": {},
   "source": [
    "Let us assume here that $T=\\infty$.\n",
    "\n",
    "***\n",
    "__Question 5__ Let $\\pi$ be a policy, show that:\n",
    "\n",
    "\\begin{equation*}\n",
    "Q^{\\pi}(s,a)=E_{(s',a')\\sim p(.|s,a)}[r(s,a)+\\gamma Q^{\\pi}(s',a')]\n",
    "\\end{equation*}\n",
    "\n",
    "Then, show that for the optimal policy $\\pi^*$ (we assume its existence), the following holds: \n",
    "\n",
    "\\begin{equation*}\n",
    "Q^{*}(s,a)=E_{s'\\sim \\pi^*(.|s,a)}[r(s,a)+\\gamma\\max_{a'}Q^{*}(s',a')].\n",
    "\\end{equation*}\n",
    "Finally, deduce that a plausible objective is:\n",
    "\n",
    "\\begin{equation*}\n",
    "\\mathcal{L}(\\theta)=E_{s' \\sim \\pi^*(.|s,a)}\\Vert r+\\gamma\\max\\max_{a'}Q(s',a',\\theta)-Q(s,a,\\theta)\\Vert^{2}.\n",
    "\\end{equation*}\n",
    "\n",
    "Ecrire l'ojective function\n",
    "Allows to enforce the previous equality, if our neural network perfectly converge this equality must be true. Using this loss function we try to enforce our learned Q-value to verify the Bellman equation."
   ]
  },
  {
   "cell_type": "markdown",
   "metadata": {},
   "source": [
    "**(1)** We saw in class that : <br>\n",
    "\\begin{equation*}\n",
    "Q^{\\pi}(s,a)=E[\\sum\\limits_{k=0}^{\\infty} \\gamma^k r_{t+k} | s_{t}=s,a_{t}=a]\n",
    "\\end{equation*}\n",
    "So we have\n",
    "\\begin{equation*}\n",
    "Q^{\\pi}(s,a)=E[r(s,a)+\\sum\\limits_{k=1}^{\\infty} \\gamma^k r_{t+k} | s_{t}=s,a_{t}=a]\n",
    "\\end{equation*}\n",
    "\\begin{equation*}\n",
    "Q^{\\pi}(s,a)=r(s,a)+\\gamma E[E[\\sum\\limits_{k=0}^{\\infty} \\gamma^k r_{t+k+1} | s_{t+1}=s',a_{t+1}=a']| s_{t}=s,a_{t}=a]\n",
    "\\end{equation*}\n",
    "\\begin{equation*}\n",
    "Q^{\\pi}(s,a)=r(s,a)+\\gamma \\sum\\limits_{s',a'}p(s_{t+1}=s',a_{t+1}=a'|s_{t}=s,a_{t}=a) E[\\sum\\limits_{k=0}^{\\infty} \\gamma^k r_{t+k+1} | s_{t+1}=s',a_{t+1}=a']\n",
    "\\end{equation*}\n",
    "and since we have that $E_{(s',a')\\sim p(.|s,a)}[r(s,a)]=r(s,a)$\n",
    "\n",
    "\\begin{equation*}\n",
    "Q^{\\pi}(s,a)=E_{(s',a')\\sim p(.|s,a)}[r(s,a)+\\gamma Q^{\\pi}(s',a')] (1)\n",
    "\\end{equation*}\n",
    "\n",
    "**2**\n",
    "\\begin{equation*}\n",
    "Q^{*}(s,a)=max_{\\pi}  (E_{(s',a')\\sim p(.|s,a)}[r(s,a)+\\gamma Q^{\\pi}(s',a')])\n",
    "\\end{equation*}\n",
    "\n",
    "\\begin{equation*}\n",
    "Q^{*}(s,a)=max_{\\pi}  r(s,a)+ \\gamma \\sum p(s_{t+1}=s'|s_{t}=s,a_{t}=a) Q^{\\pi}(s',a')\n",
    "\\end{equation*}\n",
    "\n",
    "\\begin{equation*}\n",
    "Q^{*}(s,a)=  r(s,a) +\\gamma  max_{\\pi} \\sum p(s_{t+1}=s'|s_{t}=s,a_{t}=a) Q^{\\pi'}(s',a')\n",
    "\\end{equation*} where $\\pi ' =(a',\\pi')$\n",
    "The question is now to enter the max operator in the sum. We have the inequality that in general $max(\\sum)<\\sum(max)$\n",
    "Then we have considering $\\hat{\\pi}(s',a') = \\arg\\max_{\\pi'} Q^{\\pi'}(s',a')$ \\begin{align} \\sum{(s'} p(s{t+1}=s'|s_t = s, at = a ) \\max{\\pi'}Q^{\\pi'}(s',a') &= \\sum{(s')} p(s{t+1}=s' |s_t = s, at = a ) Q^{\\hat{\\pi}(s',a')}(s',a') \\ &\\leq \\max{\\pi'} \\sum{s'} p(s{t+1}=s' |s_t = s, a_t = a )Q^{\\pi'}(s',a') \\end{align}\n",
    "\n",
    "So we can rewrite our initial equation as : \\begin{align} Q^{}(s,a)&= r(s,a) + \\gamma \\sum(p(s_{t+1}=s' |s_t = s, at = a )\\max{a'}\\max{\\pi'}Q^{\\pi'}(s',a') \\ &= r(s,a) + \\gamma \\sum(p(s{t+1}=s' |s_t = s, at = a )\\max{a'} Q^{}(s',a') \\ &=E{s'\\sim \\pi^*(.|s,a)}[r(s,a)+\\gamma\\max{a'}Q^{*}(s',a')]. \\end{align}\n",
    "\n",
    "**(3)**\n",
    "\\begin{equation*}\n",
    "\\mathcal{L}(\\theta)=E_{s' \\sim \\pi^*(.|s,a)}\\Vert r+\\gamma\\max\\max_{a'}Q(s',a',\\theta)-Q(s,a,\\theta)\\Vert^{2}.\n",
    "\\end{equation*}\n",
    "\n",
    "We can indeed use this objective function as it will enforce the previous equality which is necessary to make our neural network converge.\n",
    "\n"
   ]
  },
  {
   "cell_type": "markdown",
   "metadata": {},
   "source": [
    "***\n",
    "The DQN-learning algorithm relies on these derivations to train the parameters $\\theta$ of a Deep Neural Network:\n",
    "\n",
    "1. At the state $s_t$, select the action $a_t$ with best reward using $Q_t$ and store the results;\n",
    "\n",
    "2. Obtain the new state $s_{t+1}$ from the environment $p$;\n",
    "\n",
    "3. Store $(s_t,a_t,s_{t+1})$;\n",
    "\n",
    "4. Obtain $Q_{t+1}$ by minimizing  $\\mathcal{L}$ from a recovered batch from the previously stored results.\n",
    "\n",
    "***\n",
    "__Question 6__ Implement the class ```Memory``` that stores moves (in a replay buffer) via ```remember``` and provides a ```random_access``` to these. Specify a maximum memory size to avoid side effects. You can for example use a ```list()``` and set by default ```max_memory=100```."
   ]
  },
  {
   "cell_type": "code",
   "execution_count": 14,
   "metadata": {},
   "outputs": [],
   "source": [
    "class Memory(object):\n",
    "    def __init__(self, max_memory=100):\n",
    "        self.max_memory = max_memory\n",
    "        self.memory = list()\n",
    "\n",
    "    def remember(self, m):\n",
    "        self.memory.append(m)\n",
    "        # the following condition helps us maintaining the max memory to 100\n",
    "        if len(self.memory)>self.max_memory:\n",
    "            del self.memory[0]\n",
    "            \n",
    "    def random_access(self):\n",
    "        # index of the move we are going to access\n",
    "        i = np.random.randint(0, len(self.memory), size=1)[0]\n",
    "        return self.memory[i]"
   ]
  },
  {
   "cell_type": "markdown",
   "metadata": {},
   "source": [
    "***\n",
    "The pipeline we will use for training is given below:"
   ]
  },
  {
   "cell_type": "code",
   "execution_count": 15,
   "metadata": {},
   "outputs": [],
   "source": [
    "def train(agent,env,epoch,prefix=''):\n",
    "    # Number of won games\n",
    "    score = 0\n",
    "    loss = 0\n",
    "\n",
    "    for e in range(epoch):\n",
    "         # At each epoch, we restart to a fresh game and get the initial state\n",
    "        state = env.reset()\n",
    "         # This assumes that the games will terminate\n",
    "        game_over = False\n",
    "\n",
    "        win = 0\n",
    "        lose = 0\n",
    "\n",
    "        while not game_over:\n",
    "            # The agent performs an action\n",
    "            action = agent.act(state)\n",
    "\n",
    "             # Apply an action to the environment, get the next state, the reward\n",
    "            # and if the games end\n",
    "            prev_state = state\n",
    "            state, reward, game_over = env.act(action)\n",
    "\n",
    "            # Update the counters\n",
    "            if reward > 0:\n",
    "                win = win + reward\n",
    "            if reward < 0:\n",
    "                lose = lose -reward\n",
    "\n",
    "            # Apply the reinforcement strategy\n",
    "            loss = agent.reinforce(prev_state, state,  action, reward, game_over)\n",
    "\n",
    "        # Save as a mp4\n",
    "        if e % 10 == 0:\n",
    "            env.draw(prefix+str(e))\n",
    "\n",
    "        # Update stats\n",
    "        score += win-lose\n",
    "\n",
    "        print(\"Epoch {:03d}/{:03d} | Loss {:.4f} | Win/lose count {}/{} ({})\"\n",
    "              .format(e, epoch, loss, win, lose, win-lose))\n",
    "        agent.save(name_weights=prefix+'model.h5',name_model=prefix+'model.json')"
   ]
  },
  {
   "cell_type": "markdown",
   "metadata": {},
   "source": [
    "***\n",
    "__Question 7__ Implement the DQN training algorithm using a cascade of fully connected layers. You can use different learning rate, batch size or memory size parameters. In particular, the loss might oscillate while the player will start to win the games. You have to find a good criterium."
   ]
  },
  {
   "cell_type": "code",
   "execution_count": 16,
   "metadata": {},
   "outputs": [],
   "source": [
    "class DQN(Agent):\n",
    "    def __init__(self, grid_size,  epsilon = 0.1, memory_size=100, batch_size = 16,n_state=2):\n",
    "        super(DQN, self).__init__(epsilon = epsilon)\n",
    "\n",
    "        # Discount for Q learning\n",
    "        self.discount = 0.99\n",
    "        \n",
    "        self.grid_size = grid_size\n",
    "        \n",
    "        # number of state\n",
    "        self.n_state = n_state\n",
    "\n",
    "        # Memory\n",
    "        self.memory = Memory(memory_size)\n",
    "        \n",
    "        # Batch size when learning\n",
    "        self.batch_size = batch_size\n",
    "\n",
    "    def learned_act(self, s):\n",
    "        return np.argmax(self.model.predict(s.reshape([1,s.shape[0],s.shape[1],s.shape[2]]))[0,:])\n",
    "\n",
    "    def reinforce(self, s_, n_s_, a_, r_, game_over_):\n",
    "        # Firstly we remember the states, then we learn from the pool\n",
    "        self.memory.remember([s_, n_s_, a_, r_, game_over_])\n",
    "        input_states = np.zeros((self.batch_size, 5,5,self.n_state))\n",
    "        target_q = np.zeros((self.batch_size, 4))\n",
    "        \n",
    "        for i in range(self.batch_size):\n",
    "            # first we retrieve all elements of random access \n",
    "            s_, n_s_, a_, r_, game_over_  = self.memory.random_access()\n",
    "            # the target_q is what our model will predict considering the values of s_\n",
    "            target_q[i] =self.model.predict(s_.reshape([1,s_.shape[0],s_.shape[1],s_.shape[2]]))[0]\n",
    "            # we improve our prediction only if there is a new informtion\n",
    "            if game_over_:\n",
    "                input_states[i] = s_\n",
    "                target_q[i,a_] = r_\n",
    "            else:\n",
    "                input_states[i] = s_\n",
    "                # /////////// INFOS INFOS INFOS////////////\n",
    "                target_q[i,a_] = r_  + self.discount*max(self.model.predict(n_s_.reshape([1,s_.shape[0],s_.shape[1],s_.shape[2]]))[0])\n",
    "        # HINT: Clip the target to avoid exploiding gradients.. -- clipping is a bit tighter\n",
    "        target_q = np.clip(target_q, -3, 3)\n",
    "        l = self.model.train_on_batch(input_states, target_q)\n",
    "\n",
    "\n",
    "        return l\n",
    "\n",
    "    def save(self,name_weights='model.h5',name_model='model.json'):\n",
    "        self.model.save_weights(name_weights, overwrite=True)\n",
    "        with open(name_model, \"w\") as outfile:\n",
    "            json.dump(self.model.to_json(), outfile)\n",
    "            \n",
    "    def load(self,name_weights='model.h5',name_model='model.json'):\n",
    "        with open(name_model, \"r\") as jfile:\n",
    "            model = model_from_json(json.load(jfile))\n",
    "        model.load_weights(name_weights)\n",
    "        model.compile(\"sgd\", \"mse\")\n",
    "        self.model = model\n",
    "            \n",
    "class DQN_FC(DQN):\n",
    "    def __init__(self, *args, lr=0.1,**kwargs):\n",
    "        super(DQN_FC, self).__init__( *args,**kwargs)\n",
    "        \n",
    "        # NN Model\n",
    "        model = Sequential()\n",
    "        model.add(Flatten(input_shape=(5,5,self.n_state,)))\n",
    "        model.add(Dense(30,activation ='relu')) # we used only one hidden layer\n",
    "        model.add(Dense(4))\n",
    "        model.compile(sgd(lr=lr, decay=1e-4, momentum=0.0), \"mse\")\n",
    "        self.model = model"
   ]
  },
  {
   "cell_type": "code",
   "execution_count": 29,
   "metadata": {},
   "outputs": [
    {
     "name": "stdout",
     "output_type": "stream",
     "text": [
      "Epoch 000/050 | Loss 0.0015 | Win/lose count 1.5/1.0 (0.5)\n",
      "Epoch 001/050 | Loss 0.0102 | Win/lose count 3.0/5.0 (-2.0)\n",
      "Epoch 002/050 | Loss 0.0252 | Win/lose count 3.0/5.0 (-2.0)\n",
      "Epoch 003/050 | Loss 0.0036 | Win/lose count 3.0/2.0 (1.0)\n",
      "Epoch 004/050 | Loss 0.0094 | Win/lose count 5.0/5.0 (0.0)\n",
      "Epoch 005/050 | Loss 0.0034 | Win/lose count 1.5/0 (1.5)\n",
      "Epoch 006/050 | Loss 0.0084 | Win/lose count 2.5/3.0 (-0.5)\n",
      "Epoch 007/050 | Loss 0.0070 | Win/lose count 5.5/4.0 (1.5)\n",
      "Epoch 008/050 | Loss 0.0052 | Win/lose count 0.5/4.0 (-3.5)\n",
      "Epoch 009/050 | Loss 0.0075 | Win/lose count 3.5/10.0 (-6.5)\n",
      "Epoch 010/050 | Loss 0.0042 | Win/lose count 4.0/6.0 (-2.0)\n",
      "Epoch 011/050 | Loss 0.0102 | Win/lose count 5.0/4.0 (1.0)\n",
      "Epoch 012/050 | Loss 0.0051 | Win/lose count 2.0/1.0 (1.0)\n",
      "Epoch 013/050 | Loss 0.0296 | Win/lose count 2.0/6.0 (-4.0)\n",
      "Epoch 014/050 | Loss 0.0041 | Win/lose count 4.5/7.0 (-2.5)\n",
      "Epoch 015/050 | Loss 0.0051 | Win/lose count 3.0/4.0 (-1.0)\n",
      "Epoch 016/050 | Loss 0.0159 | Win/lose count 7.0/4.0 (3.0)\n",
      "Epoch 017/050 | Loss 0.0491 | Win/lose count 4.0/6.0 (-2.0)\n",
      "Epoch 018/050 | Loss 0.0111 | Win/lose count 3.5/1.0 (2.5)\n",
      "Epoch 019/050 | Loss 0.0555 | Win/lose count 2.0/1.0 (1.0)\n",
      "Epoch 020/050 | Loss 0.0065 | Win/lose count 2.0/2.0 (0.0)\n",
      "Epoch 021/050 | Loss 0.0031 | Win/lose count 2.5/3.0 (-0.5)\n",
      "Epoch 022/050 | Loss 0.0060 | Win/lose count 2.5/1.0 (1.5)\n",
      "Epoch 023/050 | Loss 0.0064 | Win/lose count 5.5/5.0 (0.5)\n",
      "Epoch 024/050 | Loss 0.0465 | Win/lose count 4.5/1.0 (3.5)\n",
      "Epoch 025/050 | Loss 0.0076 | Win/lose count 2.0/3.0 (-1.0)\n",
      "Epoch 026/050 | Loss 0.0062 | Win/lose count 8.5/0 (8.5)\n",
      "Epoch 027/050 | Loss 0.0371 | Win/lose count 6.0/2.0 (4.0)\n",
      "Epoch 028/050 | Loss 0.0042 | Win/lose count 10.5/3.0 (7.5)\n",
      "Epoch 029/050 | Loss 0.0552 | Win/lose count 8.0/4.0 (4.0)\n",
      "Epoch 030/050 | Loss 0.0035 | Win/lose count 6.5/0 (6.5)\n",
      "Epoch 031/050 | Loss 0.0098 | Win/lose count 10.5/2.0 (8.5)\n",
      "Epoch 032/050 | Loss 0.0039 | Win/lose count 7.5/3.0 (4.5)\n",
      "Epoch 033/050 | Loss 0.0064 | Win/lose count 2.0/1.0 (1.0)\n",
      "Epoch 034/050 | Loss 0.0485 | Win/lose count 7.0/2.0 (5.0)\n",
      "Epoch 035/050 | Loss 0.0056 | Win/lose count 7.0/6.0 (1.0)\n",
      "Epoch 036/050 | Loss 0.0085 | Win/lose count 10.0/6.0 (4.0)\n",
      "Epoch 037/050 | Loss 0.0092 | Win/lose count 4.5/3.0 (1.5)\n",
      "Epoch 038/050 | Loss 0.0032 | Win/lose count 7.5/7.0 (0.5)\n",
      "Epoch 039/050 | Loss 0.0040 | Win/lose count 7.0/3.0 (4.0)\n",
      "Epoch 040/050 | Loss 0.0012 | Win/lose count 6.5/1.0 (5.5)\n",
      "Epoch 041/050 | Loss 0.0089 | Win/lose count 8.0/5.0 (3.0)\n",
      "Epoch 042/050 | Loss 0.0879 | Win/lose count 3.0/1.0 (2.0)\n",
      "Epoch 043/050 | Loss 0.0053 | Win/lose count 5.5/1.0 (4.5)\n",
      "Epoch 044/050 | Loss 0.0510 | Win/lose count 9.0/1.0 (8.0)\n",
      "Epoch 045/050 | Loss 0.0034 | Win/lose count 9.5/1.0 (8.5)\n",
      "Epoch 046/050 | Loss 0.0032 | Win/lose count 2.5/0 (2.5)\n",
      "Epoch 047/050 | Loss 0.0025 | Win/lose count 12.5/2.0 (10.5)\n",
      "Epoch 048/050 | Loss 0.0043 | Win/lose count 15.0/0 (15.0)\n",
      "Epoch 049/050 | Loss 0.0036 | Win/lose count 9.5/4.0 (5.5)\n"
     ]
    },
    {
     "data": {
      "text/html": [
       "<video alt=\"test\" controls>\n",
       "                <source src=\"data:video/mp4;base64,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\" type=\"video/mp4\" />\n",
       "             </video>"
      ],
      "text/plain": [
       "<IPython.core.display.HTML object>"
      ]
     },
     "execution_count": 29,
     "metadata": {},
     "output_type": "execute_result"
    }
   ],
   "source": [
    "env = Environment(grid_size=size, max_time=T, temperature=0.3)\n",
    "agent = DQN_FC(size, lr=.1, epsilon = 0.1, memory_size=2000, batch_size = 32)\n",
    "# the suggested parameters gave the best results for this architecture\n",
    "train(agent, env, epochs_train, prefix='fc_train')\n",
    "HTML(display_videos('fc_train10.mp4'))"
   ]
  },
  {
   "cell_type": "markdown",
   "metadata": {},
   "source": [
    "***\n",
    "***\n",
    "__Question 8__ Implement the DQN training algorithm using a CNN (for example, 2 convolutional layers and one final fully connected layer)."
   ]
  },
  {
   "cell_type": "code",
   "execution_count": 17,
   "metadata": {},
   "outputs": [],
   "source": [
    "class DQN_CNN(DQN):\n",
    "    def __init__(self, *args,lr=0.1,**kwargs):\n",
    "        super(DQN_CNN, self).__init__(*args,**kwargs)\n",
    "        \n",
    "        model = Sequential()\n",
    "        # we use two convolutionnal layers here \n",
    "        model.add(Conv2D(50,(2,2),input_shape=(5,5,self.n_state,),activation='relu'))\n",
    "        model.add(Conv2D(30,(2,2),activation='relu'))\n",
    "        model.add(Flatten())\n",
    "        model.add(Dense(4))\n",
    "        \n",
    "        model.compile(sgd(lr=lr, decay=1e-4, momentum=0.0), \"mse\")\n",
    "        self.model = model"
   ]
  },
  {
   "cell_type": "code",
   "execution_count": 18,
   "metadata": {},
   "outputs": [
    {
     "name": "stdout",
     "output_type": "stream",
     "text": [
      "Epoch 000/050 | Loss 0.0010 | Win/lose count 3.0/1.0 (2.0)\n",
      "Epoch 001/050 | Loss 0.0008 | Win/lose count 5.0/3.0 (2.0)\n",
      "Epoch 002/050 | Loss 0.0044 | Win/lose count 3.5/4.0 (-0.5)\n",
      "Epoch 003/050 | Loss 0.0023 | Win/lose count 3.0/7.0 (-4.0)\n",
      "Epoch 004/050 | Loss 0.0052 | Win/lose count 7.5/4.0 (3.5)\n",
      "Epoch 005/050 | Loss 0.0028 | Win/lose count 7.5/3.0 (4.5)\n",
      "Epoch 006/050 | Loss 0.0047 | Win/lose count 10.5/2.0 (8.5)\n",
      "Epoch 007/050 | Loss 0.0053 | Win/lose count 6.0/2.0 (4.0)\n",
      "Epoch 008/050 | Loss 0.0021 | Win/lose count 3.5/4.0 (-0.5)\n",
      "Epoch 009/050 | Loss 0.1047 | Win/lose count 9.0/3.0 (6.0)\n",
      "Epoch 010/050 | Loss 0.0015 | Win/lose count 11.5/4.0 (7.5)\n",
      "Epoch 011/050 | Loss 0.0052 | Win/lose count 11.5/6.0 (5.5)\n",
      "Epoch 012/050 | Loss 0.0026 | Win/lose count 7.0/2.0 (5.0)\n",
      "Epoch 013/050 | Loss 0.0050 | Win/lose count 7.0/3.0 (4.0)\n",
      "Epoch 014/050 | Loss 0.0521 | Win/lose count 8.0/2.0 (6.0)\n",
      "Epoch 015/050 | Loss 0.0037 | Win/lose count 11.0/0 (11.0)\n",
      "Epoch 016/050 | Loss 0.0022 | Win/lose count 13.0/1.0 (12.0)\n",
      "Epoch 017/050 | Loss 0.0022 | Win/lose count 13.0/0 (13.0)\n",
      "Epoch 018/050 | Loss 0.0050 | Win/lose count 12.5/4.0 (8.5)\n",
      "Epoch 019/050 | Loss 0.0077 | Win/lose count 12.0/6.0 (6.0)\n",
      "Epoch 020/050 | Loss 0.0021 | Win/lose count 14.0/3.0 (11.0)\n",
      "Epoch 021/050 | Loss 0.0053 | Win/lose count 9.0/5.0 (4.0)\n",
      "Epoch 022/050 | Loss 0.0456 | Win/lose count 8.0/1.0 (7.0)\n",
      "Epoch 023/050 | Loss 0.0018 | Win/lose count 18.0/2.0 (16.0)\n",
      "Epoch 024/050 | Loss 0.0023 | Win/lose count 17.5/3.0 (14.5)\n",
      "Epoch 025/050 | Loss 0.0031 | Win/lose count 7.5/2.0 (5.5)\n",
      "Epoch 026/050 | Loss 0.0110 | Win/lose count 13.0/2.0 (11.0)\n",
      "Epoch 027/050 | Loss 0.0019 | Win/lose count 16.5/5.0 (11.5)\n",
      "Epoch 028/050 | Loss 0.0038 | Win/lose count 15.0/3.0 (12.0)\n",
      "Epoch 029/050 | Loss 0.0022 | Win/lose count 19.0/1.0 (18.0)\n",
      "Epoch 030/050 | Loss 0.0040 | Win/lose count 11.5/1.0 (10.5)\n",
      "Epoch 031/050 | Loss 0.0016 | Win/lose count 3.0/1.0 (2.0)\n",
      "Epoch 032/050 | Loss 0.0026 | Win/lose count 12.5/2.0 (10.5)\n",
      "Epoch 033/050 | Loss 0.0030 | Win/lose count 14.5/2.0 (12.5)\n",
      "Epoch 034/050 | Loss 0.0516 | Win/lose count 11.0/4.0 (7.0)\n",
      "Epoch 035/050 | Loss 0.0028 | Win/lose count 15.0/1.0 (14.0)\n",
      "Epoch 036/050 | Loss 0.0014 | Win/lose count 5.0/2.0 (3.0)\n",
      "Epoch 037/050 | Loss 0.0027 | Win/lose count 18.0/3.0 (15.0)\n",
      "Epoch 038/050 | Loss 0.0023 | Win/lose count 12.5/3.0 (9.5)\n",
      "Epoch 039/050 | Loss 0.0519 | Win/lose count 20.0/3.0 (17.0)\n",
      "Epoch 040/050 | Loss 0.0018 | Win/lose count 22.5/0 (22.5)\n",
      "Epoch 041/050 | Loss 0.0008 | Win/lose count 10.0/1.0 (9.0)\n",
      "Epoch 042/050 | Loss 0.0481 | Win/lose count 16.0/5.0 (11.0)\n",
      "Epoch 043/050 | Loss 0.0022 | Win/lose count 13.0/6.0 (7.0)\n",
      "Epoch 044/050 | Loss 0.0029 | Win/lose count 14.5/6.0 (8.5)\n",
      "Epoch 045/050 | Loss 0.0043 | Win/lose count 11.0/1.0 (10.0)\n",
      "Epoch 046/050 | Loss 0.0025 | Win/lose count 25.0/0 (25.0)\n",
      "Epoch 047/050 | Loss 0.0136 | Win/lose count 5.5/1.0 (4.5)\n",
      "Epoch 048/050 | Loss 0.0039 | Win/lose count 21.0/3.0 (18.0)\n",
      "Epoch 049/050 | Loss 0.0026 | Win/lose count 10.0/5.0 (5.0)\n"
     ]
    },
    {
     "data": {
      "text/html": [
       "<video alt=\"test\" controls>\n",
       "                <source src=\"data:video/mp4;base64,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\" type=\"video/mp4\" />\n",
       "             </video>"
      ],
      "text/plain": [
       "<IPython.core.display.HTML object>"
      ]
     },
     "execution_count": 18,
     "metadata": {},
     "output_type": "execute_result"
    }
   ],
   "source": [
    "env = Environment(grid_size=size, max_time=T, temperature=0.3)\n",
    "agent = DQN_CNN(size, lr=.1, epsilon = 0.1, memory_size=2000, batch_size = 32)\n",
    "train(agent,env,epochs_train,prefix='cnn_train')\n",
    "HTML(display_videos('cnn_train10.mp4'))"
   ]
  },
  {
   "cell_type": "markdown",
   "metadata": {},
   "source": [
    "***\n",
    "***\n",
    "__Question 9__ Test both algorithms and compare their performances. Which issue(s) do you observe? Observe also different behaviors by changing the temperature."
   ]
  },
  {
   "cell_type": "code",
   "execution_count": 19,
   "metadata": {},
   "outputs": [
    {
     "name": "stdout",
     "output_type": "stream",
     "text": [
      "Test of the CNN\n",
      "Win/lose count 7.0/1.0. Average score (6.0)\n",
      "Win/lose count 6.5/4.0. Average score (4.25)\n",
      "Win/lose count 18.5/1.0. Average score (8.666666666666666)\n",
      "Win/lose count 21.0/5.0. Average score (10.5)\n",
      "Win/lose count 6.5/3.0. Average score (9.1)\n",
      "Win/lose count 12.0/2.0. Average score (9.25)\n",
      "Win/lose count 7.0/0. Average score (8.928571428571429)\n",
      "Win/lose count 8.0/3.0. Average score (8.4375)\n",
      "Win/lose count 18.0/2.0. Average score (9.277777777777779)\n",
      "Win/lose count 8.0/2.0. Average score (8.95)\n",
      "Win/lose count 13.5/1.0. Average score (9.272727272727273)\n",
      "Final score: 9.272727272727273\n",
      "Test of the FC\n",
      "Win/lose count 4.5/5.0. Average score (-0.5)\n",
      "Win/lose count 4.5/5.0. Average score (-0.5)\n",
      "Win/lose count 2.5/4.0. Average score (-0.8333333333333334)\n",
      "Win/lose count 3.0/2.0. Average score (-0.375)\n",
      "Win/lose count 3.5/7.0. Average score (-1.0)\n",
      "Win/lose count 6.0/5.0. Average score (-0.6666666666666666)\n",
      "Win/lose count 4.0/12.0. Average score (-1.7142857142857142)\n",
      "Win/lose count 2.5/5.0. Average score (-1.8125)\n",
      "Win/lose count 2.5/4.0. Average score (-1.7777777777777777)\n",
      "Win/lose count 2.5/4.0. Average score (-1.75)\n",
      "Win/lose count 3.5/2.0. Average score (-1.4545454545454546)\n",
      "Final score: -1.4545454545454546\n"
     ]
    }
   ],
   "source": [
    "env = Environment(grid_size=size, max_time=T,temperature=0.3)\n",
    "agent_cnn = DQN_CNN(size, lr=.1, epsilon = 0.1, memory_size=2000, batch_size = 32)\n",
    "agent_cnn.load(name_weights='cnn_trainmodel.h5',name_model='cnn_trainmodel.json')\n",
    "\n",
    "agent_fc = DQN_FC(size, lr=.1, epsilon = 0.1, memory_size=2000, batch_size = 32)\n",
    "agent_cnn.load(name_weights='fc_trainmodel.h5',name_model='fc_trainmodel.json')\n",
    "print('Test of the CNN')\n",
    "test(agent_cnn,env,epochs_test,prefix='cnn_test')\n",
    "print('Test of the FC')\n",
    "test(agent_fc,env,epochs_test,prefix='fc_test')"
   ]
  },
  {
   "cell_type": "code",
   "execution_count": 20,
   "metadata": {},
   "outputs": [
    {
     "data": {
      "text/html": [
       "<video alt=\"test\" controls>\n",
       "                <source src=\"data:video/mp4;base64,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\" type=\"video/mp4\" />\n",
       "             </video>"
      ],
      "text/plain": [
       "<IPython.core.display.HTML object>"
      ]
     },
     "execution_count": 20,
     "metadata": {},
     "output_type": "execute_result"
    }
   ],
   "source": [
    "HTML(display_videos('cnn_test10.mp4'))"
   ]
  },
  {
   "cell_type": "code",
   "execution_count": 21,
   "metadata": {},
   "outputs": [
    {
     "data": {
      "text/html": [
       "<video alt=\"test\" controls>\n",
       "                <source src=\"data:video/mp4;base64,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\" type=\"video/mp4\" />\n",
       "             </video>"
      ],
      "text/plain": [
       "<IPython.core.display.HTML object>"
      ]
     },
     "execution_count": 21,
     "metadata": {},
     "output_type": "execute_result"
    }
   ],
   "source": [
    "HTML(display_videos('fc_test10.mp4'))"
   ]
  },
  {
   "cell_type": "markdown",
   "metadata": {},
   "source": [
    "We can see here that the final score is higher for the CNN than for the fully connected layer (9.27 compared to -1.45). We can modify the temperature to see that this tendency is still verified but for clarity I decided not to include all results for dfferent temperatures. ### A compléter en faisant d'autres tests, changer epoch train. \n",
    "The main issue we observe on the simulations is that it tends to go back to positions already taken (take a step back and do the same back a forth step over and over again). "
   ]
  },
  {
   "cell_type": "markdown",
   "metadata": {},
   "source": [
    "***\n",
    "\n",
    "The algorithm tends to not explore the map which can be an issue. We propose two ideas in order to encourage exploration:\n",
    "1. Incorporating a decreasing $\\epsilon$-greedy exploration. You can use the method ```set_epsilon```\n",
    "2. Append via the environment a new state that describes if a cell has been visited or not\n",
    "\n",
    "***\n",
    "__Question 10__ Design a new ```train_explore``` function and environment class ```EnvironmentExploring``` to tackle the issue of exploration.\n",
    "\n"
   ]
  },
  {
   "cell_type": "code",
   "execution_count": 22,
   "metadata": {},
   "outputs": [],
   "source": [
    "def train_explore(agent,env,epoch,modif_epsilon=0.3,prefix=''):\n",
    "    #This new procedure encourages exploration via a parameter modif_epsilon that decreases epsilon when exploring\n",
    "    \n",
    "    \n",
    "    \n",
    "    # Number of won games\n",
    "    score = 0\n",
    "    loss = 0\n",
    "\n",
    "    for e in range(epoch):\n",
    "        # At each epoch, we restart to a fresh game and get the initial state\n",
    "        state = env.reset()\n",
    "        # This assumes that the games will terminate\n",
    "        game_over = False\n",
    "\n",
    "        win = 0\n",
    "        lose = 0\n",
    "        # MODIFICATION HERE : we set the epsilon value to a percentage of the previous epsilon via the modif-epsiln parameter\n",
    "        agent.set_epsilon(agent.epsilon*(1-modif_epsilon))\n",
    "        while not game_over:\n",
    "            # The agent performs an action\n",
    "            action = agent.act(state)\n",
    "\n",
    "            # Apply an action to the environment, get the next state, the reward\n",
    "            # and if the games end\n",
    "            prev_state = state\n",
    "            state, reward, game_over = env.act(action, train=True)\n",
    "\n",
    "            # Update the counters\n",
    "            if reward > 0:\n",
    "                win = win + reward\n",
    "            if reward < 0:\n",
    "                lose = lose -reward\n",
    "\n",
    "            # Apply the reinforcement strategy\n",
    "            loss = agent.reinforce(prev_state, state,  action, reward, game_over)\n",
    "\n",
    "        # Save as a mp4\n",
    "        if e % 10 == 0:\n",
    "            env.draw(prefix+str(e))\n",
    "\n",
    "        # Update stats\n",
    "        score += win-lose\n",
    "\n",
    "        print(\"Epoch {:03d}/{:03d} | Loss {:.4f} | Win/lose count {}/{} ({})\"\n",
    "              .format(e, epoch, loss, win, lose, win-lose))\n",
    "        agent.save(name_weights=prefix+'model.h5',name_model=prefix+'model.json')\n",
    "        \n",
    "class EnvironmentExploring(object):\n",
    "    def __init__(self, grid_size=10, max_time=500, temperature=0.1):\n",
    "        grid_size = grid_size+4\n",
    "        self.grid_size = grid_size\n",
    "        self.max_time = max_time\n",
    "        self.temperature = temperature\n",
    "\n",
    "        #board on which one plays\n",
    "        self.board = np.zeros((grid_size,grid_size))\n",
    "        self.position = np.zeros((grid_size,grid_size))\n",
    "        # we define here a malus which happens if we already visited this position\n",
    "        self.malus_position = np.zeros((grid_size,grid_size))\n",
    "        # coordinate of the cat\n",
    "        self.x = 0\n",
    "        self.y = 1\n",
    "\n",
    "        # self time\n",
    "        self.t = 0\n",
    "\n",
    "        self.scale=16\n",
    "\n",
    "        self.to_draw = np.zeros((max_time+2, grid_size*self.scale, grid_size*self.scale, 3))\n",
    "\n",
    "\n",
    "    def draw(self,e):\n",
    "        skvideo.io.vwrite(str(e) + '.mp4', self.to_draw)\n",
    "\n",
    "    def get_frame(self,t):\n",
    "        b = np.zeros((self.grid_size,self.grid_size,3))+128\n",
    "        b[self.board>0,0] = 256\n",
    "        b[self.board < 0, 2] = 256\n",
    "        b[self.x,self.y,:]=256\n",
    "        b[-2:,:,:]=0\n",
    "        b[:,-2:,:]=0\n",
    "        b[:2,:,:]=0\n",
    "        b[:,:2,:]=0\n",
    "        \n",
    "        b =  cv2.resize(b, None, fx=self.scale, fy=self.scale, interpolation=cv2.INTER_NEAREST)\n",
    "\n",
    "        self.to_draw[t,:,:,:]=b\n",
    "\n",
    "\n",
    "    def act(self, action,train=False):\n",
    "        \"\"\"This function returns the new state, reward and decides if the\n",
    "        game ends.\"\"\"\n",
    "        # the malus only happens if we are in the training phase, hence the added parameter to the function act\n",
    "\n",
    "        self.get_frame(int(self.t))\n",
    "\n",
    "        self.position = np.zeros((self.grid_size, self.grid_size))\n",
    "\n",
    "        self.position[0:2,:]= -1\n",
    "        self.position[:,0:2] = -1\n",
    "        self.position[-2:, :] = -1\n",
    "        self.position[:, -2:] = -1\n",
    "\n",
    "        self.position[self.x, self.y] = 1\n",
    "        if action == 0:\n",
    "            if self.x == self.grid_size-3:\n",
    "                self.x = self.x-1\n",
    "            else:\n",
    "                self.x = self.x + 1\n",
    "        elif action == 1:\n",
    "            if self.x == 2:\n",
    "                self.x = self.x+1\n",
    "            else:\n",
    "                self.x = self.x-1\n",
    "        elif action == 2:\n",
    "            if self.y == self.grid_size - 3:\n",
    "                self.y = self.y - 1\n",
    "            else:\n",
    "                self.y = self.y + 1\n",
    "        elif action == 3:\n",
    "            if self.y == 2:\n",
    "                self.y = self.y + 1\n",
    "            else:\n",
    "                self.y = self.y - 1\n",
    "        else:\n",
    "            RuntimeError('Error: action not recognized')\n",
    "\n",
    "        self.t = self.t + 1     \n",
    "        \n",
    "    \n",
    "        ## Here we add the exploring rewards\n",
    "        # You will have to change n_state to 3 because you will use one more layer!\n",
    "        reward = 0\n",
    "        if train:\n",
    "            reward = -self.malus_position[self.x, self.y]\n",
    "        self.malus_position[self.x, self.y] = 0.1\n",
    "\n",
    "        reward = reward + self.board[self.x, self.y]\n",
    "        self.board[self.x, self.y] = 0\n",
    "        # we now impose a game over if the current time is superiori to the max time\n",
    "        game_over = self.t > self.max_time\n",
    "        # 3 \"feature\" states instead of 2\n",
    "        state = np.concatenate((self.malus_position.reshape(self.grid_size, self.grid_size,1),\n",
    "                                        self.board.reshape(self.grid_size, self.grid_size,1),\n",
    "                                self.position.reshape(self.grid_size, self.grid_size,1)),axis=2)\n",
    "        state = state[self.x-2:self.x+3,self.y-2:self.y+3,:]\n",
    "\n",
    "        return state, reward, game_over\n",
    "\n",
    "    def reset(self):\n",
    "        \"\"\"This function resets the game and returns the initial state\"\"\"\n",
    "\n",
    "        self.x = np.random.randint(3, self.grid_size-3, size=1)[0]\n",
    "        self.y = np.random.randint(3, self.grid_size-3, size=1)[0]\n",
    "\n",
    "\n",
    "        bonus = 0.5*np.random.binomial(1,self.temperature,size=self.grid_size**2)\n",
    "        bonus = bonus.reshape(self.grid_size,self.grid_size)\n",
    "\n",
    "        malus = -1.0*np.random.binomial(1,self.temperature,size=self.grid_size**2)\n",
    "        malus = malus.reshape(self.grid_size, self.grid_size)\n",
    "\n",
    "        self.to_draw = np.zeros((self.max_time+2, self.grid_size*self.scale, self.grid_size*self.scale, 3))\n",
    "\n",
    "\n",
    "        malus[bonus>0]=0\n",
    "\n",
    "        self.board = bonus + malus\n",
    "\n",
    "        self.position = np.zeros((self.grid_size, self.grid_size))\n",
    "        self.position[0:2,:]= -1\n",
    "        self.position[:,0:2] = -1\n",
    "        self.position[-2:, :] = -1\n",
    "        self.position[:,-2:] = -1\n",
    "        self.board[self.x,self.y] = 0\n",
    "        self.t = 0\n",
    "        #The malus is 0 at the beginning\n",
    "        self.malus_position = np.zeros((self.grid_size, self.grid_size))\n",
    "        state = np.concatenate((self.malus_position.reshape(self.grid_size, self.grid_size,1),\n",
    "                                        self.board.reshape(self.grid_size, self.grid_size,1),\n",
    "                                self.position.reshape(self.grid_size, self.grid_size,1)),axis=2)\n",
    "\n",
    "        state = state[self.x - 2:self.x + 3, self.y - 2:self.y + 3, :]\n",
    "        return state"
   ]
  },
  {
   "cell_type": "code",
   "execution_count": 23,
   "metadata": {},
   "outputs": [
    {
     "name": "stdout",
     "output_type": "stream",
     "text": [
      "Epoch 000/050 | Loss 0.0159 | Win/lose count 6.5/21.100000000000023 (-14.600000000000023)\n",
      "Epoch 001/050 | Loss 0.0139 | Win/lose count 11.0/20.200000000000024 (-9.200000000000024)\n",
      "Epoch 002/050 | Loss 0.0059 | Win/lose count 4.0/20.80000000000003 (-16.80000000000003)\n",
      "Epoch 003/050 | Loss 0.0094 | Win/lose count 10.0/22.30000000000003 (-12.30000000000003)\n",
      "Epoch 004/050 | Loss 0.0074 | Win/lose count 5.5/19.700000000000017 (-14.200000000000017)\n",
      "Epoch 005/050 | Loss 0.0048 | Win/lose count 7.0/17.999999999999986 (-10.999999999999986)\n",
      "Epoch 006/050 | Loss 0.0046 | Win/lose count 10.0/17.39999999999998 (-7.399999999999981)\n",
      "Epoch 007/050 | Loss 0.0074 | Win/lose count 10.5/16.89999999999997 (-6.39999999999997)\n",
      "Epoch 008/050 | Loss 0.0066 | Win/lose count 9.5/16.899999999999974 (-7.399999999999974)\n",
      "Epoch 009/050 | Loss 0.0175 | Win/lose count 17.0/14.599999999999968 (2.4000000000000323)\n",
      "Epoch 010/050 | Loss 0.0141 | Win/lose count 12.5/14.499999999999968 (-1.999999999999968)\n",
      "Epoch 011/050 | Loss 0.0029 | Win/lose count 22.0/12.499999999999972 (9.500000000000028)\n",
      "Epoch 012/050 | Loss 0.0095 | Win/lose count 14.5/16.199999999999964 (-1.6999999999999638)\n",
      "Epoch 013/050 | Loss 0.0097 | Win/lose count 18.5/15.199999999999969 (3.300000000000031)\n",
      "Epoch 014/050 | Loss 0.0077 | Win/lose count 21.5/12.99999999999997 (8.50000000000003)\n",
      "Epoch 015/050 | Loss 0.0044 | Win/lose count 16.0/15.399999999999965 (0.6000000000000352)\n",
      "Epoch 016/050 | Loss 0.0048 | Win/lose count 12.5/16.19999999999996 (-3.69999999999996)\n",
      "Epoch 017/050 | Loss 0.0072 | Win/lose count 16.5/14.099999999999966 (2.400000000000034)\n",
      "Epoch 018/050 | Loss 0.0047 | Win/lose count 10.5/15.699999999999962 (-5.199999999999962)\n",
      "Epoch 019/050 | Loss 0.0043 | Win/lose count 10.0/16.09999999999996 (-6.099999999999959)\n",
      "Epoch 020/050 | Loss 0.0037 | Win/lose count 18.0/13.799999999999969 (4.200000000000031)\n",
      "Epoch 021/050 | Loss 0.0038 | Win/lose count 19.5/15.999999999999961 (3.500000000000039)\n",
      "Epoch 022/050 | Loss 0.0083 | Win/lose count 21.0/12.199999999999976 (8.800000000000024)\n",
      "Epoch 023/050 | Loss 0.0291 | Win/lose count 26.0/11.89999999999998 (14.10000000000002)\n",
      "Epoch 024/050 | Loss 0.0060 | Win/lose count 18.0/14.299999999999965 (3.700000000000035)\n",
      "Epoch 025/050 | Loss 0.0540 | Win/lose count 21.5/11.899999999999974 (9.600000000000026)\n",
      "Epoch 026/050 | Loss 0.0039 | Win/lose count 18.0/13.399999999999968 (4.600000000000032)\n",
      "Epoch 027/050 | Loss 0.0118 | Win/lose count 18.0/13.099999999999971 (4.900000000000029)\n",
      "Epoch 028/050 | Loss 0.0121 | Win/lose count 24.0/11.99999999999998 (12.00000000000002)\n",
      "Epoch 029/050 | Loss 0.0301 | Win/lose count 29.0/11.799999999999978 (17.200000000000024)\n",
      "Epoch 030/050 | Loss 0.0217 | Win/lose count 22.5/13.399999999999979 (9.100000000000021)\n",
      "Epoch 031/050 | Loss 0.0105 | Win/lose count 27.0/13.799999999999976 (13.200000000000024)\n",
      "Epoch 032/050 | Loss 0.0120 | Win/lose count 20.0/11.199999999999976 (8.800000000000024)\n",
      "Epoch 033/050 | Loss 0.0106 | Win/lose count 25.5/10.399999999999979 (15.100000000000021)\n",
      "Epoch 034/050 | Loss 0.0114 | Win/lose count 22.5/10.399999999999979 (12.100000000000021)\n",
      "Epoch 035/050 | Loss 0.0111 | Win/lose count 28.0/11.799999999999974 (16.200000000000024)\n",
      "Epoch 036/050 | Loss 0.0193 | Win/lose count 27.0/12.699999999999978 (14.300000000000022)\n",
      "Epoch 037/050 | Loss 0.0112 | Win/lose count 28.5/14.399999999999977 (14.100000000000023)\n",
      "Epoch 038/050 | Loss 0.0117 | Win/lose count 14.0/15.799999999999962 (-1.7999999999999616)\n",
      "Epoch 039/050 | Loss 0.0132 | Win/lose count 26.5/14.899999999999977 (11.600000000000023)\n",
      "Epoch 040/050 | Loss 0.0242 | Win/lose count 23.5/12.399999999999975 (11.100000000000025)\n",
      "Epoch 041/050 | Loss 0.0153 | Win/lose count 27.0/10.999999999999975 (16.000000000000025)\n",
      "Epoch 042/050 | Loss 0.0246 | Win/lose count 25.5/12.299999999999981 (13.200000000000019)\n",
      "Epoch 043/050 | Loss 0.0267 | Win/lose count 21.5/12.299999999999978 (9.200000000000022)\n",
      "Epoch 044/050 | Loss 0.0183 | Win/lose count 23.0/11.499999999999986 (11.500000000000014)\n",
      "Epoch 045/050 | Loss 0.0193 | Win/lose count 22.0/15.39999999999997 (6.60000000000003)\n",
      "Epoch 046/050 | Loss 0.0161 | Win/lose count 24.0/13.299999999999972 (10.700000000000028)\n",
      "Epoch 047/050 | Loss 0.0189 | Win/lose count 26.5/13.299999999999981 (13.200000000000019)\n",
      "Epoch 048/050 | Loss 0.0184 | Win/lose count 18.0/13.99999999999997 (4.00000000000003)\n",
      "Epoch 049/050 | Loss 0.0104 | Win/lose count 24.0/11.599999999999975 (12.400000000000025)\n"
     ]
    },
    {
     "data": {
      "text/html": [
       "<video alt=\"test\" controls>\n",
       "                <source src=\"data:video/mp4;base64,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\" type=\"video/mp4\" />\n",
       "             </video>"
      ],
      "text/plain": [
       "<IPython.core.display.HTML object>"
      ]
     },
     "execution_count": 23,
     "metadata": {},
     "output_type": "execute_result"
    }
   ],
   "source": [
    "# Training \n",
    "env = EnvironmentExploring(grid_size=size, max_time=T, temperature=0.3)\n",
    "agent = DQN_CNN(size, lr=.1, epsilon = 0.1, memory_size=2000, batch_size = 32,n_state=3)\n",
    "train_explore(agent, env, epochs_train, prefix='cnn_train_explore')\n",
    "HTML(display_videos('cnn_train_explore10.mp4'))"
   ]
  },
  {
   "cell_type": "code",
   "execution_count": 24,
   "metadata": {},
   "outputs": [
    {
     "name": "stdout",
     "output_type": "stream",
     "text": [
      "Win/lose count 18.0/5.0. Average score (13.0)\n",
      "Win/lose count 33.5/2.0. Average score (22.25)\n",
      "Win/lose count 12.5/3.0. Average score (18.0)\n",
      "Win/lose count 25.0/5.0. Average score (18.5)\n",
      "Win/lose count 23.5/3.0. Average score (18.9)\n",
      "Win/lose count 17.5/3.0. Average score (18.166666666666668)\n",
      "Win/lose count 23.5/0. Average score (18.928571428571427)\n",
      "Win/lose count 26.0/5.0. Average score (19.1875)\n",
      "Win/lose count 23.0/6.0. Average score (18.944444444444443)\n",
      "Win/lose count 24.0/5.0. Average score (18.95)\n",
      "Win/lose count 21.5/3.0. Average score (18.90909090909091)\n",
      "Final score: 18.90909090909091\n"
     ]
    },
    {
     "data": {
      "text/html": [
       "<video alt=\"test\" controls>\n",
       "                <source src=\"data:video/mp4;base64,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\" type=\"video/mp4\" />\n",
       "             </video>"
      ],
      "text/plain": [
       "<IPython.core.display.HTML object>"
      ]
     },
     "execution_count": 24,
     "metadata": {},
     "output_type": "execute_result"
    }
   ],
   "source": [
    "# Evaluation\n",
    "test(agent,env,epochs_test,prefix='cnn_test_explore')\n",
    "HTML(display_videos('cnn_test_explore10.mp4'))"
   ]
  },
  {
   "cell_type": "markdown",
   "metadata": {},
   "source": [
    "We can see now that on the videos, the rat explores more the space and doesn't seem to go back and forth on the same positions as it used to. The final score is also higher in this configuration with the same parameters as before (temperature=0.3, 50 epochs, using the DQN_CNN approach)."
   ]
  },
  {
   "cell_type": "markdown",
   "metadata": {},
   "source": [
    "***\n",
    "***\n",
    "__BONUS question__ Use the expert DQN from the previous question to generate some winning games. Train a model that mimicks its behavior. Compare the performances."
   ]
  },
  {
   "cell_type": "markdown",
   "metadata": {},
   "source": []
  },
  {
   "cell_type": "markdown",
   "metadata": {},
   "source": [
    "***"
   ]
  }
 ],
 "metadata": {
  "kernelspec": {
   "display_name": "Python 3",
   "language": "python",
   "name": "python3"
  },
  "language_info": {
   "codemirror_mode": {
    "name": "ipython",
    "version": 3
   },
   "file_extension": ".py",
   "mimetype": "text/x-python",
   "name": "python",
   "nbconvert_exporter": "python",
   "pygments_lexer": "ipython3",
   "version": "3.6.7"
  }
 },
 "nbformat": 4,
 "nbformat_minor": 2
}
